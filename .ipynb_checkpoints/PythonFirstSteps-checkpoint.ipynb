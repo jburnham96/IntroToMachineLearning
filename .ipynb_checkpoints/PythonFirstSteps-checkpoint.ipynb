{
 "cells": [
  {
   "cell_type": "markdown",
   "metadata": {},
   "source": [
    "# Learning\n",
    "\n",
    "This notebook contains some simple examples of using *Jupyter Notbook* and __*Python3*__"
   ]
  },
  {
   "cell_type": "markdown",
   "metadata": {},
   "source": [
    "## Example 1: Hello, world"
   ]
  },
  {
   "cell_type": "code",
   "execution_count": 1,
   "metadata": {},
   "outputs": [
    {
     "name": "stdout",
     "output_type": "stream",
     "text": [
      "Hello, James\n",
      "\n"
     ]
    }
   ],
   "source": [
    "my_name = \"James\"\n",
    "hello_statement = \"Hello, \" + my_name\n",
    "\n",
    "print(hello_statement, end=\"\\n\\n\")\n",
    "\n",
    "x = 10"
   ]
  },
  {
   "cell_type": "markdown",
   "metadata": {},
   "source": [
    "Example 2: World's best loop is here"
   ]
  },
  {
   "cell_type": "code",
   "execution_count": 6,
   "metadata": {},
   "outputs": [
    {
     "name": "stdout",
     "output_type": "stream",
     "text": [
      "j=( 1 ) x=( 11 )\n",
      "j=( 2 ) x=( 13 )\n",
      "j=( 3 ) x=( 16 )\n",
      "j=( 4 ) x=( 20 )\n"
     ]
    }
   ],
   "source": [
    "x = 10\n",
    "\n",
    "for j in range(1, 5):\n",
    "    x = x + j\n",
    "    print(\"j=(\",j,\") x=(\",x,\")\")"
   ]
  },
  {
   "cell_type": "code",
   "execution_count": null,
   "metadata": {},
   "outputs": [],
   "source": []
  }
 ],
 "metadata": {
  "kernelspec": {
   "display_name": "Python 3",
   "language": "python",
   "name": "python3"
  },
  "language_info": {
   "codemirror_mode": {
    "name": "ipython",
    "version": 3
   },
   "file_extension": ".py",
   "mimetype": "text/x-python",
   "name": "python",
   "nbconvert_exporter": "python",
   "pygments_lexer": "ipython3",
   "version": "3.5.2"
  }
 },
 "nbformat": 4,
 "nbformat_minor": 2
}
